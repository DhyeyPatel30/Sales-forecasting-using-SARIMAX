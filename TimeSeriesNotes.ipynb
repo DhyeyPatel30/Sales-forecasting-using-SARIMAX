{
 "cells": [
  {
   "cell_type": "markdown",
   "id": "63ce8672",
   "metadata": {},
   "source": [
    "# Time Series Analysis\n"
   ]
  },
  {
   "cell_type": "markdown",
   "id": "68859504",
   "metadata": {},
   "source": [
    "### Characteristics\n",
    "- collected at chronological order with timestamps (date and time)<br>\n",
    "- shows trend over a long period of time <br>\n",
    "- random variation (noise) is not explained <br>\n",
    "- statistical properties (mean, variance) are constant over time - Test for Stationarity: Augmented Dickey-Fuller (ADF) test.<br><br>\n",
    "\n",
    "examples: stock prices, temperature reading, website traffic, monthly sales, IoT sensor data analysis "
   ]
  },
  {
   "cell_type": "markdown",
   "id": "9efdae35",
   "metadata": {},
   "source": [
    "### COMPONENTS\n",
    "- trend and seasonality\n",
    "- repeating pattern\n",
    "- irregular frequency (rise and fall)\n",
    "- Random variation/noise"
   ]
  },
  {
   "cell_type": "markdown",
   "id": "246050e4",
   "metadata": {},
   "source": [
    "### Uses of Time Series Analysis\n",
    "\n",
    "- forcasting:  predicting future temperature values\n",
    "- classification:  predict if stock will go up/down (not exact value)\n",
    "- anomaly detection:  detect unusual spikes (fraud / machine failure"
   ]
  },
  {
   "cell_type": "markdown",
   "id": "dcaec0cd",
   "metadata": {},
   "source": [
    "### Time Series Forecasting approach\n",
    "\n",
    "0. Data Collection📥\n",
    "\n",
    "1. Data Preprocessing ⚙️<br>\n",
    "&nbsp;&nbsp;&nbsp;&nbsp;1.0 Sort Data chronologically<br>\n",
    "    &nbsp;&nbsp;&nbsp;&nbsp;1.1 Handle Missings & duplicates<br>\n",
    "    &nbsp;&nbsp;&nbsp;&nbsp;1.2 Smoothing data / Resampling<br>\n",
    "    \n",
    "2. Data visualization 📊\n",
    "3. Feature engineering 🔧<br>\n",
    "    &nbsp;&nbsp;&nbsp;&nbsp;3.0 Lag<br>\n",
    "     &nbsp;&nbsp;&nbsp;&nbsp;3.1 Drop irrelevelant features<br>\n",
    "4. Exploratory Data Analysis 📊<br>\n",
    "    &nbsp;&nbsp;&nbsp;&nbsp;4.0 Autocorrelation Analysis<br>\n",
    "    &nbsp;&nbsp;&nbsp;&nbsp;4.1 Encoding Cyclical Features<br>\n",
    "    &nbsp;&nbsp;&nbsp;&nbsp;4.2 TimeSeries Decomposition<br>\n",
    "    &nbsp;&nbsp;&nbsp;&nbsp;4.3 Stationarity<br>\n",
    "    &nbsp;&nbsp;&nbsp;&nbsp;&nbsp;&nbsp;&nbsp;&nbsp;&nbsp;&nbsp;&nbsp;&nbsp;4.3.0 Augmented Dickey-Fuller (ADF)<br>\n",
    "    &nbsp;&nbsp;&nbsp;&nbsp;&nbsp;&nbsp;&nbsp;&nbsp;&nbsp;&nbsp;&nbsp;&nbsp;4.3.1 Transforming<br>\n",
    "    &nbsp;&nbsp;&nbsp;&nbsp;&nbsp;&nbsp;&nbsp;&nbsp;&nbsp;&nbsp;&nbsp;&nbsp;4.3.2 Differencing<br>\n",
    "5. Train-Test Split: based on time\n",
    "6. Modeling<br>\n",
    "    &nbsp;&nbsp;&nbsp;&nbsp;6.0 Models for Univariate Time Series<br>\n",
    "    &nbsp;&nbsp;&nbsp;&nbsp;&nbsp;&nbsp;&nbsp;&nbsp;&nbsp;&nbsp;&nbsp;&nbsp; > MA, AR, ARIMA, SARIMA...ETC<br>\n",
    "    &nbsp;&nbsp;&nbsp;&nbsp;6.2 Models for Multivariate Time Series<br>\n",
    "    &nbsp;&nbsp;&nbsp;&nbsp;&nbsp;&nbsp;&nbsp;&nbsp;&nbsp;&nbsp;&nbsp;&nbsp; > SARIMAX, VAR, VARMA, PROPHET...ETC<br>\n",
    "7. Model Training🛠️<br>\n",
    "&nbsp;&nbsp;&nbsp;&nbsp;7.0 Fit model with training dataset<br>\n",
    "&nbsp;&nbsp;&nbsp;&nbsp;7.1 Predict/Forecast using testing data<br>\n",
    "8. Model Evaluation📈<br>\n",
    "&nbsp;&nbsp;&nbsp;&nbsp;8.0 Use various performance matrics to evaluate model accuracy:<br>\n",
    "&nbsp;&nbsp;&nbsp;&nbsp;&nbsp;&nbsp;&nbsp;&nbsp; > mean absolute error (mae) <br>\n",
    "&nbsp;&nbsp;&nbsp;&nbsp;&nbsp;&nbsp;&nbsp;&nbsp; > mean squared error (mse)<br>\n",
    "&nbsp;&nbsp;&nbsp;&nbsp;&nbsp;&nbsp;&nbsp;&nbsp; > root mse (rmse)<br>\n",
    "&nbsp;&nbsp;&nbsp;&nbsp;&nbsp;&nbsp;&nbsp;&nbsp; > mean absolute percentage error (mape)<br>\n",
    "&nbsp;&nbsp;&nbsp;&nbsp;&nbsp;&nbsp;&nbsp;&nbsp; > AIC/BIC - EVALUATION: lowest == best<br>\n",
    "\n",
    "9. Post-processing & Interpretation📦<br>\n",
    "&nbsp;&nbsp;&nbsp;&nbsp;&nbsp;&nbsp;&nbsp;&nbsp; > Plot predicted vs actual sales<br>\n",
    "&nbsp;&nbsp;&nbsp;&nbsp;&nbsp;&nbsp;&nbsp;&nbsp; > Apply business constraints (e.g., inventory caps)<br>\n",
    "&nbsp;&nbsp;&nbsp;&nbsp;&nbsp;&nbsp;&nbsp;&nbsp; > Convert predictions into actionable insights <br>"
   ]
  },
  {
   "cell_type": "code",
   "execution_count": null,
   "id": "6f558b5e",
   "metadata": {},
   "outputs": [
    {
     "ename": "NameError",
     "evalue": "name 'pd' is not defined",
     "output_type": "error",
     "traceback": [
      "\u001b[31m---------------------------------------------------------------------------\u001b[39m",
      "\u001b[31mNameError\u001b[39m                                 Traceback (most recent call last)",
      "\u001b[36mCell\u001b[39m\u001b[36m \u001b[39m\u001b[32mIn[1]\u001b[39m\u001b[32m, line 1\u001b[39m\n\u001b[32m----> \u001b[39m\u001b[32m1\u001b[39m help(\u001b[43mpd\u001b[49m.Series.loc)\n",
      "\u001b[31mNameError\u001b[39m: name 'pd' is not defined"
     ]
    }
   ],
   "source": [
    "import pandas as pd\n",
    "help(pd.Series.loc)"
   ]
  }
 ],
 "metadata": {
  "kernelspec": {
   "display_name": "Python 3",
   "language": "python",
   "name": "python3"
  },
  "language_info": {
   "codemirror_mode": {
    "name": "ipython",
    "version": 3
   },
   "file_extension": ".py",
   "mimetype": "text/x-python",
   "name": "python",
   "nbconvert_exporter": "python",
   "pygments_lexer": "ipython3",
   "version": "3.12.5"
  }
 },
 "nbformat": 4,
 "nbformat_minor": 5
}
